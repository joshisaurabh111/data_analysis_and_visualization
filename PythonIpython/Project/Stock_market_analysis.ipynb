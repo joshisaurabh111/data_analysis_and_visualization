{
 "cells": [
  {
   "cell_type": "raw",
   "metadata": {},
   "source": [
    "'''\n",
    "\n",
    "# Stock Market Analysis:\n",
    "\n",
    "1.) What was the change in price of the stock over time?\n",
    "2.) What was the daily return of the stock on average?\n",
    "3.) What was the moving average of the various stocks?\n",
    "4.) What was the correlation between different stocks' closing prices?\n",
    "4.) What was the correlation between different stocks' daily returns?\n",
    "5.) How much value do we put at risk by investing in a particular stock?\n",
    "6.) How can we attempt to predict future stock behavior?\n",
    "\n",
    "'''"
   ]
  },
  {
   "cell_type": "code",
   "execution_count": 1,
   "metadata": {},
   "outputs": [],
   "source": [
    "import pandas as pd\n",
    "from pandas import Series, DataFrame\n",
    "import numpy as np\n"
   ]
  },
  {
   "cell_type": "code",
   "execution_count": 2,
   "metadata": {},
   "outputs": [],
   "source": [
    "import matplotlib.pyplot as plt\n",
    "import seaborn as sns\n",
    "sns.set_style('whitegrid')"
   ]
  },
  {
   "cell_type": "code",
   "execution_count": 3,
   "metadata": {},
   "outputs": [],
   "source": [
    "%matplotlib inline"
   ]
  },
  {
   "cell_type": "raw",
   "metadata": {},
   "source": [
    "#NOTE\n",
    "\n",
    "All the depricated data scaping methods are mentioned below\n"
   ]
  },
  {
   "cell_type": "code",
   "execution_count": 4,
   "metadata": {},
   "outputs": [
    {
     "data": {
      "text/plain": [
       "'\\n\\nfrom pandas_datareader import wb, data      #DEPRICATED\\ndepimport pandas_datareader.data as pdr     #DEPRICATED\\n\\nfrom pandas.io.data import DataReader       #DEPRICATED\\n\\n'"
      ]
     },
     "execution_count": 4,
     "metadata": {},
     "output_type": "execute_result"
    }
   ],
   "source": [
    "'''\n",
    "\n",
    "from pandas_datareader import wb, data      #DEPRICATED\n",
    "depimport pandas_datareader.data as pdr     #DEPRICATED\n",
    "\n",
    "from pandas.io.data import DataReader       #DEPRICATED\n",
    "\n",
    "'''"
   ]
  },
  {
   "cell_type": "code",
   "execution_count": 5,
   "metadata": {},
   "outputs": [],
   "source": [
    "from datetime import datetime"
   ]
  },
  {
   "cell_type": "code",
   "execution_count": 6,
   "metadata": {},
   "outputs": [],
   "source": [
    "end = datetime.now()\n",
    "start = datetime(end.year - 1,end.month,end.day)"
   ]
  },
  {
   "cell_type": "code",
   "execution_count": 7,
   "metadata": {},
   "outputs": [],
   "source": [
    "#Getting DATA from Yahoo/Google\n",
    "\n",
    "tech_list = ['AAPL','GOOG','MSFT','AMZN']"
   ]
  },
  {
   "cell_type": "code",
   "execution_count": 8,
   "metadata": {},
   "outputs": [
    {
     "ename": "ModuleNotFoundError",
     "evalue": "No module named 'yahoo_fin'",
     "output_type": "error",
     "traceback": [
      "\u001b[1;31m---------------------------------------------------------------------------\u001b[0m",
      "\u001b[1;31mModuleNotFoundError\u001b[0m                       Traceback (most recent call last)",
      "\u001b[1;32m<ipython-input-8-c46637dd522f>\u001b[0m in \u001b[0;36m<module>\u001b[1;34m()\u001b[0m\n\u001b[1;32m----> 1\u001b[1;33m \u001b[1;32mfrom\u001b[0m \u001b[0myahoo_fin\u001b[0m \u001b[1;32mimport\u001b[0m \u001b[0mstock_info\u001b[0m \u001b[1;32mas\u001b[0m \u001b[0msi\u001b[0m\u001b[1;33m\u001b[0m\u001b[0m\n\u001b[0m",
      "\u001b[1;31mModuleNotFoundError\u001b[0m: No module named 'yahoo_fin'"
     ]
    }
   ],
   "source": [
    "from yahoo_fin import stock_info as si"
   ]
  },
  {
   "cell_type": "code",
   "execution_count": null,
   "metadata": {},
   "outputs": [],
   "source": [
    "# globals() used for setting all the string names like AAPL, GOOG as global variables\n",
    "\n",
    "for stock in tech_list:\n",
    "    globals()[stock] = si.get_data(stock, start, end)"
   ]
  },
  {
   "cell_type": "code",
   "execution_count": null,
   "metadata": {},
   "outputs": [],
   "source": [
    "# This global variable can get the data for this particular Stock\n",
    "\n",
    "AAPL.head()"
   ]
  },
  {
   "cell_type": "code",
   "execution_count": null,
   "metadata": {},
   "outputs": [],
   "source": [
    "MSFT.head()"
   ]
  },
  {
   "cell_type": "code",
   "execution_count": null,
   "metadata": {},
   "outputs": [],
   "source": [
    "#Opening price, closing price, low, high and Split stock changes\n",
    "\n",
    "GOOG.head()"
   ]
  },
  {
   "cell_type": "code",
   "execution_count": null,
   "metadata": {},
   "outputs": [],
   "source": [
    "#describes all the statistical data for the stock data.\n",
    "\n",
    "AAPL.describe()"
   ]
  },
  {
   "cell_type": "code",
   "execution_count": null,
   "metadata": {},
   "outputs": [],
   "source": [
    "#taotal count and other info\n",
    "\n",
    "AAPL.info()"
   ]
  },
  {
   "cell_type": "code",
   "execution_count": null,
   "metadata": {},
   "outputs": [],
   "source": [
    "#Set Figure size not necessary\n",
    "\n",
    "AAPL['adjclose'].plot(legend=True, figsize=(15,6))"
   ]
  },
  {
   "cell_type": "code",
   "execution_count": null,
   "metadata": {},
   "outputs": [],
   "source": [
    "AAPL['volume'].plot(legend=True, figsize=(15,6))"
   ]
  },
  {
   "cell_type": "code",
   "execution_count": null,
   "metadata": {},
   "outputs": [],
   "source": [
    "# For financial data Moving averages is one of the important factors for analyzing\n",
    "# and predicting stock prices and other entities.\n",
    "\n",
    "\n",
    "ma_day = [10, 20, 50]\n",
    "\n",
    "'''\n",
    "for ma in ma_day:\n",
    "    column_name = \"MA for %s days\" %(str(ma))                     # DEPRICATED\n",
    "    AAPL[column_name] = pd.rolling_mean(AAPL['adjclose'], ma)     # DEPRICATED\n",
    "    \n",
    "'''    "
   ]
  },
  {
   "cell_type": "code",
   "execution_count": null,
   "metadata": {},
   "outputs": [],
   "source": [
    "#moving average and ints convergence of foloow\n",
    "#This can give different treands in data\n",
    "\n",
    "for ma in ma_day:\n",
    "    column_name = \"MA for %s days\" %(str(ma))\n",
    "    AAPL[column_name] = AAPL['adjclose'].rolling(ma).mean()"
   ]
  },
  {
   "cell_type": "code",
   "execution_count": null,
   "metadata": {},
   "outputs": [],
   "source": [
    "#Plotting the data for All categories\n",
    "\n",
    "AAPL[['adjclose', 'MA for 10 days', 'MA for 20 days', 'MA for 50 days']].plot(subplots=False,\n",
    "                                                                               figsize=(15,6))"
   ]
  },
  {
   "cell_type": "code",
   "execution_count": null,
   "metadata": {},
   "outputs": [],
   "source": [
    "#Creating Daily Return using Percentage change in values\n",
    "\n",
    "AAPL['daily return'] = AAPL['adjclose'].pct_change()\n"
   ]
  },
  {
   "cell_type": "code",
   "execution_count": null,
   "metadata": {},
   "outputs": [],
   "source": [
    "#Risk Analysis using plotting daily returns (ups and downs)\n",
    "\n",
    "AAPL['daily return'].plot(figsize=(15,6), legend=True, linestyle='--', marker='o')"
   ]
  },
  {
   "cell_type": "code",
   "execution_count": null,
   "metadata": {},
   "outputs": [],
   "source": [
    "#Dive deep in seaborn #DEPRICATED normed\n",
    "\n",
    "sns.distplot(AAPL['daily return'].dropna(), bins=100, color='purple')"
   ]
  },
  {
   "cell_type": "code",
   "execution_count": null,
   "metadata": {},
   "outputs": [],
   "source": [
    "#Pandas histogram for smae implementation\n",
    "\n",
    "AAPL['daily return'].hist(bins=100)"
   ]
  },
  {
   "cell_type": "code",
   "execution_count": null,
   "metadata": {},
   "outputs": [],
   "source": [
    "all_data = pd.DataFrame()\n",
    "\n",
    "all_data = [AAPL.adjclose , GOOG.adjclose, MSFT.adjclose, AMZN.adjclose]\n",
    "total = pd.DataFrame(all_data, index=['AAPL' , 'GOOG', 'MSFT', 'AMZN']).transpose()\n",
    "\n",
    "\n",
    "all_close = [AAPL.close , GOOG.close, MSFT.close, AMZN.close]\n",
    "total_close = pd.DataFrame(all_close, index=['AAPL' , 'GOOG', 'MSFT', 'AMZN']).transpose()\n"
   ]
  },
  {
   "cell_type": "code",
   "execution_count": null,
   "metadata": {},
   "outputs": [],
   "source": [
    "tech_rets = total.pct_change()\n",
    "tech_rets.head()"
   ]
  },
  {
   "cell_type": "code",
   "execution_count": null,
   "metadata": {},
   "outputs": [],
   "source": [
    "total.head()"
   ]
  },
  {
   "cell_type": "code",
   "execution_count": null,
   "metadata": {},
   "outputs": [],
   "source": [
    "#pearson value = 1 (Pearson product-moment correlation coefficient)\n",
    "\n",
    "sns.jointplot('GOOG','GOOG', tech_rets, kind='scatter', color='seagreen' )"
   ]
  },
  {
   "cell_type": "code",
   "execution_count": null,
   "metadata": {},
   "outputs": [],
   "source": [
    "#pearson value = 0.66 (Pearson product-moment correlation coefficient)\n",
    "\n",
    "sns.jointplot('GOOG', 'MSFT', tech_rets, kind='scatter')"
   ]
  },
  {
   "cell_type": "code",
   "execution_count": null,
   "metadata": {},
   "outputs": [],
   "source": [
    "total.head()"
   ]
  },
  {
   "cell_type": "code",
   "execution_count": null,
   "metadata": {},
   "outputs": [],
   "source": [
    "sns.pairplot(tech_rets.dropna(), kind='scatter')"
   ]
  },
  {
   "cell_type": "code",
   "execution_count": null,
   "metadata": {},
   "outputs": [],
   "source": [
    "return_fig = sns.PairGrid(tech_rets.dropna())\n",
    "\n",
    "return_fig.map_upper(plt.scatter, color='purple')\n",
    "return_fig.map_lower(sns.kdeplot, cmap='cool_d')\n",
    "return_fig.map_diag(plt.hist)"
   ]
  },
  {
   "cell_type": "code",
   "execution_count": null,
   "metadata": {},
   "outputs": [],
   "source": [
    "return_fig = sns.PairGrid(total.dropna())\n",
    "\n",
    "return_fig.map_upper(plt.scatter, color='purple')\n",
    "return_fig.map_lower(sns.kdeplot, cmap='cool_d')\n",
    "return_fig.map_diag(plt.hist, bins=30)"
   ]
  },
  {
   "cell_type": "code",
   "execution_count": null,
   "metadata": {},
   "outputs": [],
   "source": [
    "#sns.corrplot(total.dropna(),annot=True)   #DEPRICATED\n",
    "\n",
    "#Seaborn Correlation plot is depricated, instead heatmaps are more robust to outliers\n",
    "# and gives better picture than correlation matrices"
   ]
  },
  {
   "cell_type": "code",
   "execution_count": null,
   "metadata": {},
   "outputs": [],
   "source": [
    "corr = tech_rets.corr()\n",
    "\n",
    "# @This masking function is taken from internet source \n",
    "mask = np.zeros_like(corr, dtype=np.bool)\n",
    "# @This masking function is taken from internet source\n",
    "mask[np.triu_indices_from(mask)] = True\n",
    "\n",
    "sns.heatmap(corr, annot=True, mask=mask)"
   ]
  },
  {
   "cell_type": "markdown",
   "metadata": {},
   "source": [
    "# RISK ANALYSYS\n"
   ]
  },
  {
   "cell_type": "code",
   "execution_count": null,
   "metadata": {},
   "outputs": [],
   "source": [
    "rets = tech_rets.dropna()\n",
    "\n",
    "area = np.pi*20\n",
    "\n",
    "plt.scatter(rets.mean(), rets.std(),alpha = 0.5,s =area)\n",
    "\n",
    "# Set the x and y limits of the plot (optional, remove this if you don't see anything in your plot)\n",
    "plt.ylim([0.01,0.030])\n",
    "plt.xlim([-0.001,0.003])\n",
    "\n",
    "#Set the plot axis titles\n",
    "plt.xlabel('Expected returns')\n",
    "plt.ylabel('Risk')\n",
    "\n",
    "# @Content for annotation extracted from matplotlib online resourse\n",
    "# http://matplotlib.org/users/annotations_guide.html\n",
    "for label, x, y in zip(rets.columns, rets.mean(), rets.std()):\n",
    "    plt.annotate(\n",
    "        label, \n",
    "        xy = (x, y), xytext = (50, 50),\n",
    "        textcoords = 'offset points', ha = 'right', va = 'bottom',\n",
    "        arrowprops = dict(arrowstyle = '-', connectionstyle = 'arc3,rad=-0.2'))\n",
    "\n",
    "\n",
    "# https://matplotlib.org/users/annotations_guide.html\n",
    "# Setting annotations\n",
    "\n"
   ]
  },
  {
   "cell_type": "code",
   "execution_count": null,
   "metadata": {
    "scrolled": false
   },
   "outputs": [],
   "source": [
    "#Value at risk\n",
    "\n",
    "#BOOTSTRAP METHOD: quantile and percentile\n",
    "\n",
    "sns.distplot(AAPL['daily return'].dropna(), bins=100, color='purple')"
   ]
  },
  {
   "cell_type": "code",
   "execution_count": null,
   "metadata": {},
   "outputs": [],
   "source": [
    "# Worst case loss with 95% confidence you can loose 0.02795, it cannot exceed this amount\n",
    "\n",
    "rets['AAPL'].quantile(0.05)"
   ]
  },
  {
   "cell_type": "markdown",
   "metadata": {},
   "source": [
    "# MONTE CARLO METHOD STOCK SIMULATION"
   ]
  },
  {
   "cell_type": "raw",
   "metadata": {},
   "source": [
    "Formula for calcullations : ΔS=S(μΔt+σϵ√Δt)\n",
    "\n",
    "Here the S (stock price is multiplied by 2 terms)\n",
    "1st term: Drift :\n",
    "\n",
    "    Drift is forward movement of values based on average daily return multiplied by the change of time.\n",
    "    \n",
    "2nd term: Shock :\n",
    "    This is a vertical movement of price (up or down) randomly.\n",
    "   \n",
    "For predicting stock everytime the stock price will Drift and experience a SHock either up or down. Multiple simulations of these will generate a histogram of lines that will predict stock price at a certain point in time."
   ]
  },
  {
   "cell_type": "code",
   "execution_count": null,
   "metadata": {},
   "outputs": [],
   "source": [
    "days= 365\n",
    "\n",
    "dt = 1/days\n",
    "\n",
    "#Average return\n",
    "mu = rets.mean()['GOOG']\n",
    "\n",
    "#Standard deviation on daily return\n",
    "sigma = rets.std()['GOOG']"
   ]
  },
  {
   "cell_type": "code",
   "execution_count": null,
   "metadata": {},
   "outputs": [],
   "source": [
    "def stock_monte_carlo(start_price, days, mu, sigma):\n",
    "    \n",
    "    price = np.zeros(days)\n",
    "    price[0] = start_price\n",
    "    \n",
    "    shock = np.zeros(days)\n",
    "    drift = np.zeros(days)\n",
    "    \n",
    "    for x in range(1, days):\n",
    "        \n",
    "        shock[x] = np.random.normal(loc=mu*dt, scale=sigma*np.sqrt(dt))\n",
    "        \n",
    "        drift[x] = mu*dt\n",
    "        \n",
    "        price[x] = price[x-1] + (price[x-1] * (drift[x] + shock[x]))\n",
    "        \n",
    "    return price"
   ]
  },
  {
   "cell_type": "code",
   "execution_count": null,
   "metadata": {},
   "outputs": [],
   "source": [
    "GOOG.head()"
   ]
  },
  {
   "cell_type": "code",
   "execution_count": null,
   "metadata": {},
   "outputs": [],
   "source": [
    "start_price = 1035.50\n",
    "\n",
    "for run in range(100):\n",
    "    plt.plot(stock_monte_carlo(start_price, days, mu, sigma))\n",
    "    \n",
    "    \n",
    "plt.xlabel('Days')\n",
    "plt.ylabel('Price')\n",
    "plt.title('Monte Carlo Analysis for GOOGLE')"
   ]
  },
  {
   "cell_type": "code",
   "execution_count": null,
   "metadata": {},
   "outputs": [],
   "source": [
    "runs = 10000\n",
    "\n",
    "sims = np.zeros(runs)\n",
    "\n",
    "for run in range(runs):\n",
    "    sims[run] = stock_monte_carlo(start_price, days, mu, sigma)[days-1]"
   ]
  },
  {
   "cell_type": "code",
   "execution_count": null,
   "metadata": {},
   "outputs": [],
   "source": [
    "#PLot a histoogram\n",
    "\n",
    "q = np.percentile(sims, 1)\n",
    "\n",
    "plt.hist(sims, bins=200)\n",
    "\n",
    "\n",
    "plt.figtext(0.6, 0.8, s=\"Start price: $%.2f\" %start_price)\n",
    "# Mean ending price\n",
    "plt.figtext(0.6, 0.7, \"Mean final price: $%.2f\" % sims.mean())\n",
    "\n",
    "# Variance of the price (within 99% confidence interval)\n",
    "plt.figtext(0.6, 0.6, \"VaR(0.99): $%.2f\" % (start_price - q,))\n",
    "\n",
    "# Display 1% quantile\n",
    "plt.figtext(0.15, 0.6, \"q(0.99): $%.2f\" % q)\n",
    "\n",
    "# Plot a line at the 1% quantile result\n",
    "plt.axvline(x=q, linewidth=4, color='r')\n",
    "\n",
    "# Title\n",
    "plt.title(u\"Final price distribution for Google Stock after %s days\" % days, weight='bold');"
   ]
  },
  {
   "cell_type": "code",
   "execution_count": null,
   "metadata": {},
   "outputs": [],
   "source": []
  }
 ],
 "metadata": {
  "kernelspec": {
   "display_name": "Python 3",
   "language": "python",
   "name": "python3"
  },
  "language_info": {
   "codemirror_mode": {
    "name": "ipython",
    "version": 3
   },
   "file_extension": ".py",
   "mimetype": "text/x-python",
   "name": "python",
   "nbconvert_exporter": "python",
   "pygments_lexer": "ipython3",
   "version": "3.6.5"
  }
 },
 "nbformat": 4,
 "nbformat_minor": 2
}
