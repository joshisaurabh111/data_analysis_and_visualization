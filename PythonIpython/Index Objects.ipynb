{
 "cells": [
  {
   "cell_type": "code",
   "execution_count": 45,
   "metadata": {},
   "outputs": [],
   "source": [
    "import numpy as np\n",
    "import pandas as pd\n",
    "from pandas import Series, DataFrame\n",
    "from numpy.random import randn\n"
   ]
  },
  {
   "cell_type": "code",
   "execution_count": null,
   "metadata": {},
   "outputs": [],
   "source": [
    "my_ser = Series([1,2,3,4],index=['a','b','c','d'])\n",
    "my_ser"
   ]
  },
  {
   "cell_type": "code",
   "execution_count": 42,
   "metadata": {},
   "outputs": [
    {
     "data": {
      "text/plain": [
       "Index(['a', 'b', 'c', 'd'], dtype='object')"
      ]
     },
     "execution_count": 42,
     "metadata": {},
     "output_type": "execute_result"
    }
   ],
   "source": [
    "my_index = my_ser.index\n",
    "my_index\n"
   ]
  },
  {
   "cell_type": "code",
   "execution_count": 4,
   "metadata": {},
   "outputs": [
    {
     "data": {
      "text/plain": [
       "'c'"
      ]
     },
     "execution_count": 4,
     "metadata": {},
     "output_type": "execute_result"
    }
   ],
   "source": [
    "my_index[2]"
   ]
  },
  {
   "cell_type": "code",
   "execution_count": 5,
   "metadata": {},
   "outputs": [
    {
     "data": {
      "text/plain": [
       "Index(['c', 'd'], dtype='object')"
      ]
     },
     "execution_count": 5,
     "metadata": {},
     "output_type": "execute_result"
    }
   ],
   "source": [
    "my_index[2:]"
   ]
  },
  {
   "cell_type": "code",
   "execution_count": 16,
   "metadata": {},
   "outputs": [],
   "source": [
    "my_ser2 = my_ser.reindex(['z','x','a','b','c'], fill_value=0)"
   ]
  },
  {
   "cell_type": "code",
   "execution_count": 17,
   "metadata": {},
   "outputs": [
    {
     "data": {
      "text/plain": [
       "z    0\n",
       "x    0\n",
       "a    1\n",
       "b    2\n",
       "c    3\n",
       "dtype: int64"
      ]
     },
     "execution_count": 17,
     "metadata": {},
     "output_type": "execute_result"
    }
   ],
   "source": [
    "my_ser2"
   ]
  },
  {
   "cell_type": "code",
   "execution_count": 18,
   "metadata": {},
   "outputs": [],
   "source": [
    "ser3 = Series(['USA','Canada','India'], index=[0,5,10])"
   ]
  },
  {
   "cell_type": "code",
   "execution_count": 19,
   "metadata": {},
   "outputs": [
    {
     "data": {
      "text/plain": [
       "0        USA\n",
       "5     Canada\n",
       "10     India\n",
       "dtype: object"
      ]
     },
     "execution_count": 19,
     "metadata": {},
     "output_type": "execute_result"
    }
   ],
   "source": [
    "ser3"
   ]
  },
  {
   "cell_type": "code",
   "execution_count": 25,
   "metadata": {},
   "outputs": [
    {
     "data": {
      "text/plain": [
       "0        USA\n",
       "1        USA\n",
       "2        USA\n",
       "3        USA\n",
       "4        USA\n",
       "5     Canada\n",
       "6     Canada\n",
       "7     Canada\n",
       "8     Canada\n",
       "9     Canada\n",
       "10     India\n",
       "11     India\n",
       "12     India\n",
       "13     India\n",
       "14     India\n",
       "dtype: object"
      ]
     },
     "execution_count": 25,
     "metadata": {},
     "output_type": "execute_result"
    }
   ],
   "source": [
    "ser3.reindex(range(15), method='ffill')"
   ]
  },
  {
   "cell_type": "code",
   "execution_count": 48,
   "metadata": {},
   "outputs": [
    {
     "data": {
      "text/html": [
       "<div>\n",
       "<style scoped>\n",
       "    .dataframe tbody tr th:only-of-type {\n",
       "        vertical-align: middle;\n",
       "    }\n",
       "\n",
       "    .dataframe tbody tr th {\n",
       "        vertical-align: top;\n",
       "    }\n",
       "\n",
       "    .dataframe thead th {\n",
       "        text-align: right;\n",
       "    }\n",
       "</style>\n",
       "<table border=\"1\" class=\"dataframe\">\n",
       "  <thead>\n",
       "    <tr style=\"text-align: right;\">\n",
       "      <th></th>\n",
       "      <th>cal1</th>\n",
       "      <th>cal2</th>\n",
       "      <th>cal3</th>\n",
       "      <th>cal4</th>\n",
       "      <th>cal5</th>\n",
       "    </tr>\n",
       "  </thead>\n",
       "  <tbody>\n",
       "    <tr>\n",
       "      <th>A</th>\n",
       "      <td>-1.883635</td>\n",
       "      <td>-2.077975</td>\n",
       "      <td>1.206100</td>\n",
       "      <td>0.456369</td>\n",
       "      <td>0.594310</td>\n",
       "    </tr>\n",
       "    <tr>\n",
       "      <th>B</th>\n",
       "      <td>0.485722</td>\n",
       "      <td>-0.467968</td>\n",
       "      <td>1.419938</td>\n",
       "      <td>0.457519</td>\n",
       "      <td>-0.488430</td>\n",
       "    </tr>\n",
       "    <tr>\n",
       "      <th>D</th>\n",
       "      <td>-1.723167</td>\n",
       "      <td>-1.431088</td>\n",
       "      <td>0.359300</td>\n",
       "      <td>-0.397206</td>\n",
       "      <td>-0.275079</td>\n",
       "    </tr>\n",
       "    <tr>\n",
       "      <th>E</th>\n",
       "      <td>-0.868629</td>\n",
       "      <td>-0.143497</td>\n",
       "      <td>1.154338</td>\n",
       "      <td>-0.931055</td>\n",
       "      <td>-1.549232</td>\n",
       "    </tr>\n",
       "    <tr>\n",
       "      <th>F</th>\n",
       "      <td>1.030173</td>\n",
       "      <td>0.078493</td>\n",
       "      <td>-0.824530</td>\n",
       "      <td>-3.416820</td>\n",
       "      <td>0.627986</td>\n",
       "    </tr>\n",
       "  </tbody>\n",
       "</table>\n",
       "</div>"
      ],
      "text/plain": [
       "       cal1      cal2      cal3      cal4      cal5\n",
       "A -1.883635 -2.077975  1.206100  0.456369  0.594310\n",
       "B  0.485722 -0.467968  1.419938  0.457519 -0.488430\n",
       "D -1.723167 -1.431088  0.359300 -0.397206 -0.275079\n",
       "E -0.868629 -0.143497  1.154338 -0.931055 -1.549232\n",
       "F  1.030173  0.078493 -0.824530 -3.416820  0.627986"
      ]
     },
     "execution_count": 48,
     "metadata": {},
     "output_type": "execute_result"
    }
   ],
   "source": [
    "dframe = DataFrame(randn(25).reshape(5,5), index=['A','B','D','E','F'], \n",
    "                   columns=['cal1', 'cal2', 'cal3','cal4','cal5'])\n",
    "dframe"
   ]
  },
  {
   "cell_type": "code",
   "execution_count": 50,
   "metadata": {},
   "outputs": [
    {
     "data": {
      "text/html": [
       "<div>\n",
       "<style scoped>\n",
       "    .dataframe tbody tr th:only-of-type {\n",
       "        vertical-align: middle;\n",
       "    }\n",
       "\n",
       "    .dataframe tbody tr th {\n",
       "        vertical-align: top;\n",
       "    }\n",
       "\n",
       "    .dataframe thead th {\n",
       "        text-align: right;\n",
       "    }\n",
       "</style>\n",
       "<table border=\"1\" class=\"dataframe\">\n",
       "  <thead>\n",
       "    <tr style=\"text-align: right;\">\n",
       "      <th></th>\n",
       "      <th>cal1</th>\n",
       "      <th>cal2</th>\n",
       "      <th>cal3</th>\n",
       "      <th>cal4</th>\n",
       "      <th>cal5</th>\n",
       "    </tr>\n",
       "  </thead>\n",
       "  <tbody>\n",
       "    <tr>\n",
       "      <th>A</th>\n",
       "      <td>-1.883635</td>\n",
       "      <td>-2.077975</td>\n",
       "      <td>1.206100</td>\n",
       "      <td>0.456369</td>\n",
       "      <td>0.594310</td>\n",
       "    </tr>\n",
       "    <tr>\n",
       "      <th>B</th>\n",
       "      <td>0.485722</td>\n",
       "      <td>-0.467968</td>\n",
       "      <td>1.419938</td>\n",
       "      <td>0.457519</td>\n",
       "      <td>-0.488430</td>\n",
       "    </tr>\n",
       "    <tr>\n",
       "      <th>C</th>\n",
       "      <td>0.000000</td>\n",
       "      <td>0.000000</td>\n",
       "      <td>0.000000</td>\n",
       "      <td>0.000000</td>\n",
       "      <td>0.000000</td>\n",
       "    </tr>\n",
       "    <tr>\n",
       "      <th>D</th>\n",
       "      <td>-1.723167</td>\n",
       "      <td>-1.431088</td>\n",
       "      <td>0.359300</td>\n",
       "      <td>-0.397206</td>\n",
       "      <td>-0.275079</td>\n",
       "    </tr>\n",
       "    <tr>\n",
       "      <th>E</th>\n",
       "      <td>-0.868629</td>\n",
       "      <td>-0.143497</td>\n",
       "      <td>1.154338</td>\n",
       "      <td>-0.931055</td>\n",
       "      <td>-1.549232</td>\n",
       "    </tr>\n",
       "    <tr>\n",
       "      <th>F</th>\n",
       "      <td>1.030173</td>\n",
       "      <td>0.078493</td>\n",
       "      <td>-0.824530</td>\n",
       "      <td>-3.416820</td>\n",
       "      <td>0.627986</td>\n",
       "    </tr>\n",
       "  </tbody>\n",
       "</table>\n",
       "</div>"
      ],
      "text/plain": [
       "       cal1      cal2      cal3      cal4      cal5\n",
       "A -1.883635 -2.077975  1.206100  0.456369  0.594310\n",
       "B  0.485722 -0.467968  1.419938  0.457519 -0.488430\n",
       "C  0.000000  0.000000  0.000000  0.000000  0.000000\n",
       "D -1.723167 -1.431088  0.359300 -0.397206 -0.275079\n",
       "E -0.868629 -0.143497  1.154338 -0.931055 -1.549232\n",
       "F  1.030173  0.078493 -0.824530 -3.416820  0.627986"
      ]
     },
     "execution_count": 50,
     "metadata": {},
     "output_type": "execute_result"
    }
   ],
   "source": [
    "dframe2 = dframe.reindex(['A','B','C','D','E','F'], fill_value=0)\n",
    "dframe2"
   ]
  },
  {
   "cell_type": "code",
   "execution_count": 59,
   "metadata": {},
   "outputs": [
    {
     "name": "stderr",
     "output_type": "stream",
     "text": [
      "D:\\Users\\joshi\\Anaconda3\\lib\\site-packages\\ipykernel_launcher.py:1: FutureWarning: \n",
      "Passing list-likes to .loc or [] with any missing label will raise\n",
      "KeyError in the future, you can use .reindex() as an alternative.\n",
      "\n",
      "See the documentation here:\n",
      "https://pandas.pydata.org/pandas-docs/stable/indexing.html#deprecate-loc-reindex-listlike\n",
      "  \"\"\"Entry point for launching an IPython kernel.\n"
     ]
    },
    {
     "data": {
      "text/html": [
       "<div>\n",
       "<style scoped>\n",
       "    .dataframe tbody tr th:only-of-type {\n",
       "        vertical-align: middle;\n",
       "    }\n",
       "\n",
       "    .dataframe tbody tr th {\n",
       "        vertical-align: top;\n",
       "    }\n",
       "\n",
       "    .dataframe thead th {\n",
       "        text-align: right;\n",
       "    }\n",
       "</style>\n",
       "<table border=\"1\" class=\"dataframe\">\n",
       "  <thead>\n",
       "    <tr style=\"text-align: right;\">\n",
       "      <th></th>\n",
       "      <th>cal1</th>\n",
       "      <th>cal2</th>\n",
       "      <th>cal3</th>\n",
       "      <th>cal4</th>\n",
       "      <th>cal5</th>\n",
       "    </tr>\n",
       "  </thead>\n",
       "  <tbody>\n",
       "    <tr>\n",
       "      <th>A</th>\n",
       "      <td>-1.883635</td>\n",
       "      <td>-2.077975</td>\n",
       "      <td>1.206100</td>\n",
       "      <td>0.456369</td>\n",
       "      <td>0.594310</td>\n",
       "    </tr>\n",
       "    <tr>\n",
       "      <th>B</th>\n",
       "      <td>0.485722</td>\n",
       "      <td>-0.467968</td>\n",
       "      <td>1.419938</td>\n",
       "      <td>0.457519</td>\n",
       "      <td>-0.488430</td>\n",
       "    </tr>\n",
       "    <tr>\n",
       "      <th>C</th>\n",
       "      <td>NaN</td>\n",
       "      <td>NaN</td>\n",
       "      <td>NaN</td>\n",
       "      <td>NaN</td>\n",
       "      <td>NaN</td>\n",
       "    </tr>\n",
       "    <tr>\n",
       "      <th>D</th>\n",
       "      <td>-1.723167</td>\n",
       "      <td>-1.431088</td>\n",
       "      <td>0.359300</td>\n",
       "      <td>-0.397206</td>\n",
       "      <td>-0.275079</td>\n",
       "    </tr>\n",
       "    <tr>\n",
       "      <th>E</th>\n",
       "      <td>-0.868629</td>\n",
       "      <td>-0.143497</td>\n",
       "      <td>1.154338</td>\n",
       "      <td>-0.931055</td>\n",
       "      <td>-1.549232</td>\n",
       "    </tr>\n",
       "    <tr>\n",
       "      <th>F</th>\n",
       "      <td>1.030173</td>\n",
       "      <td>0.078493</td>\n",
       "      <td>-0.824530</td>\n",
       "      <td>-3.416820</td>\n",
       "      <td>0.627986</td>\n",
       "    </tr>\n",
       "  </tbody>\n",
       "</table>\n",
       "</div>"
      ],
      "text/plain": [
       "       cal1      cal2      cal3      cal4      cal5\n",
       "A -1.883635 -2.077975  1.206100  0.456369  0.594310\n",
       "B  0.485722 -0.467968  1.419938  0.457519 -0.488430\n",
       "C       NaN       NaN       NaN       NaN       NaN\n",
       "D -1.723167 -1.431088  0.359300 -0.397206 -0.275079\n",
       "E -0.868629 -0.143497  1.154338 -0.931055 -1.549232\n",
       "F  1.030173  0.078493 -0.824530 -3.416820  0.627986"
      ]
     },
     "execution_count": 59,
     "metadata": {},
     "output_type": "execute_result"
    }
   ],
   "source": [
    "dframe.loc[['A','B','C','D','E','F'], ['cal1', 'cal2', 'cal3','cal4','cal5']]"
   ]
  },
  {
   "cell_type": "code",
   "execution_count": null,
   "metadata": {},
   "outputs": [],
   "source": []
  }
 ],
 "metadata": {
  "kernelspec": {
   "display_name": "Python 3",
   "language": "python",
   "name": "python3"
  },
  "language_info": {
   "codemirror_mode": {
    "name": "ipython",
    "version": 3
   },
   "file_extension": ".py",
   "mimetype": "text/x-python",
   "name": "python",
   "nbconvert_exporter": "python",
   "pygments_lexer": "ipython3",
   "version": "3.6.5"
  }
 },
 "nbformat": 4,
 "nbformat_minor": 2
}
